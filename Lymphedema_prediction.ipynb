{
 "cells": [
  {
   "cell_type": "code",
   "execution_count": 1,
   "id": "sunrise-facility",
   "metadata": {},
   "outputs": [],
   "source": [
    "import pandas as pd\n",
    "import numpy as np\n",
    "import seaborn as sns\n",
    "import matplotlib.pyplot as plt\n",
    "from sklearn import preprocessing\n",
    "from sklearn.model_selection import train_test_split\n",
    "from collections import Counter\n",
    "from imblearn.over_sampling import SMOTE\n",
    "from sklearn.linear_model import LogisticRegression\n",
    "from sklearn.metrics import confusion_matrix\n",
    "from numpy import mean\n",
    "from numpy import std\n",
    "from sklearn.model_selection import RepeatedStratifiedKFold\n",
    "from sklearn.model_selection import GridSearchCV\n",
    "from sklearn.model_selection import cross_val_score\n",
    "from sklearn.tree import DecisionTreeClassifier\n",
    "from sklearn.ensemble import RandomForestClassifier\n",
    "from sklearn.neighbors import KNeighborsClassifier\n",
    "\n",
    "from sklearn.metrics import classification_report, confusion_matrix\n",
    "import itertools\n",
    "from pprint import pprint\n",
    "from sklearn.metrics import accuracy_score\n",
    "import warnings\n",
    "warnings.filterwarnings(\"ignore\")\n",
    "sns.set_style('darkgrid')\n",
    "np.random.seed(0)"
   ]
  },
  {
   "cell_type": "code",
   "execution_count": 2,
   "id": "temporal-initial",
   "metadata": {},
   "outputs": [],
   "source": [
    "# Define Evaluation\n",
    "def evaluate(model, X_train, y_train, X_test, y_test):\n",
    "    predictions_train_set= model.predict(X_train)\n",
    "    predictions_test_set = model.predict(X_test)\n",
    "    \n",
    "    print('True lables:     ', list(y_test))\n",
    "    print('Predicted labels:', list(predictions_test_set))\n",
    "    print('**********************************************************')\n",
    "    print('Model Performance', model)\n",
    "    print('Accuracy on train_set %.2f' % accuracy_score(y_train, model.predict(X_train)))\n",
    "    print('Accuracy on test_set %.2f' % accuracy_score(y_test, model.predict(X_test)))\n",
    "    print('**********************************************************')\n",
    "    print(classification_report(y_train, predictions_train_set))\n",
    "   "
   ]
  },
  {
   "cell_type": "code",
   "execution_count": 3,
   "id": "wireless-complement",
   "metadata": {},
   "outputs": [],
   "source": [
    "# Define Confusion Matrix\n",
    "def plot_confusion_matrix(cm, classes,\n",
    "                          normalize=False,\n",
    "                          title='Confusion matrix',\n",
    "                          cmap=plt.cm.Greens):\n",
    "    \"\"\"\n",
    "    This function prints and plots the confusion matrix.\n",
    "    Normalization can be applied by setting `normalize=True`.\n",
    "    \"\"\"\n",
    "    if normalize:\n",
    "        cm = cm.astype('float') / cm.sum(axis=1)[:, np.newaxis]\n",
    "        print(\"Normalized confusion matrix\")\n",
    "    else:\n",
    "        print('Confusion matrix, without normalization')\n",
    "\n",
    "    print(cm)\n",
    "\n",
    "    plt.imshow(cm, interpolation='nearest', cmap=cmap)\n",
    "    plt.title(title)\n",
    "    plt.colorbar()\n",
    "    tick_marks = np.arange(len(classes))\n",
    "    plt.xticks(tick_marks, classes, rotation=90)\n",
    "    plt.yticks(tick_marks, classes)\n",
    "\n",
    "    fmt = '.2f' if normalize else 'd'\n",
    "    thresh = cm.max() / 2.\n",
    "    for i, j in itertools.product(range(cm.shape[0]), range(cm.shape[1])):\n",
    "        plt.text(j, i, format(cm[i, j], fmt),\n",
    "                 horizontalalignment=\"center\",\n",
    "                 color=\"white\" if cm[i, j] > thresh else \"black\")\n",
    "\n",
    "    plt.tight_layout()\n",
    "    plt.ylabel('True label')\n",
    "    plt.xlabel('Predicted label')"
   ]
  },
  {
   "cell_type": "code",
   "execution_count": 4,
   "id": "colored-masters",
   "metadata": {},
   "outputs": [],
   "source": [
    "# Loading the dataset\n",
    "df = pd.read_excel('Melina_OriginalFile.xlsx', skiprows=2)\n",
    "df = df.drop(df.index[0:6]).reset_index(drop=True)"
   ]
  },
  {
   "cell_type": "code",
   "execution_count": 5,
   "id": "advisory-leadership",
   "metadata": {},
   "outputs": [],
   "source": [
    "# Capitalizing all enteries to make them consistent\n",
    "df[['PVD','BMI','Venous insufficiency','CHF','Presence of ENE', 'Adjuvant radiation', 'Adjuvant systemic treatment','Lymphedema','Location','Preexisting edema','Preexisting neurologic compromise']] = df[['PVD','BMI','Venous insufficiency','CHF','Presence of ENE', 'Adjuvant radiation', 'Adjuvant systemic treatment','Lymphedema','Location','Preexisting edema','Preexisting neurologic compromise']].applymap(lambda x: x.capitalize())"
   ]
  },
  {
   "cell_type": "code",
   "execution_count": 6,
   "id": "mounted-baker",
   "metadata": {},
   "outputs": [],
   "source": [
    "# Removing extra white spaces\n",
    "df = df.applymap(lambda x: x.strip() if type(x)==str else x)"
   ]
  },
  {
   "cell_type": "code",
   "execution_count": 7,
   "id": "initial-diversity",
   "metadata": {},
   "outputs": [],
   "source": [
    "# Dropped columns with constant values\n",
    "df = df.drop(columns=['PVD', 'Venous insufficiency'])"
   ]
  },
  {
   "cell_type": "code",
   "execution_count": 8,
   "id": "christian-republican",
   "metadata": {},
   "outputs": [],
   "source": [
    "# Replace values in columns to make the entries consistent \n",
    "df = df.replace(['Nr','?','Not Applicable'], np.nan)\n",
    "df['Size of largest nodal tumor deposit'] = df['Size of largest nodal tumor deposit'].replace(['Negative'], np.nan)\n",
    "df['Highest/deepest level of LN dissection'] = df['Highest/deepest level of LN dissection'].replace({\n",
    "    'II': 'II/Superficial', \n",
    "    'Superficial': 'II/Superficial', \n",
    "    'III': 'III/Deep', \n",
    "    'Deep':'III/Deep'})\n",
    "\n",
    "df['Lymphedema_'] = df['Lymphedema']\n",
    "df['Lymphedema'] = df['Lymphedema'].replace({'No': \"No\", 'Permanent':'Yes', 'Transient':'Yes'})"
   ]
  },
  {
   "cell_type": "code",
   "execution_count": 9,
   "id": "suited-burke",
   "metadata": {},
   "outputs": [
    {
     "data": {
      "text/html": [
       "<div>\n",
       "<style scoped>\n",
       "    .dataframe tbody tr th:only-of-type {\n",
       "        vertical-align: middle;\n",
       "    }\n",
       "\n",
       "    .dataframe tbody tr th {\n",
       "        vertical-align: top;\n",
       "    }\n",
       "\n",
       "    .dataframe thead th {\n",
       "        text-align: right;\n",
       "    }\n",
       "</style>\n",
       "<table border=\"1\" class=\"dataframe\">\n",
       "  <thead>\n",
       "    <tr style=\"text-align: right;\">\n",
       "      <th></th>\n",
       "      <th>Patient</th>\n",
       "      <th>Age at diagnosis</th>\n",
       "      <th>Gender</th>\n",
       "      <th>BMI</th>\n",
       "      <th>CHF</th>\n",
       "      <th>Preexisting edema</th>\n",
       "      <th>Preexisting neurologic compromise</th>\n",
       "      <th>Location</th>\n",
       "      <th>Breslow of 1ry</th>\n",
       "      <th>Clark of 1ry</th>\n",
       "      <th>...</th>\n",
       "      <th>Highest/deepest level of LN dissection</th>\n",
       "      <th>Size of largest nodal tumor deposit</th>\n",
       "      <th>N number</th>\n",
       "      <th>Presence of ENE</th>\n",
       "      <th>Adjuvant radiation</th>\n",
       "      <th>Adjuvant systemic treatment</th>\n",
       "      <th>Lymphedema</th>\n",
       "      <th>Supportive care</th>\n",
       "      <th>Length of F/U</th>\n",
       "      <th>Lymphedema_</th>\n",
       "    </tr>\n",
       "  </thead>\n",
       "  <tbody>\n",
       "    <tr>\n",
       "      <th>0</th>\n",
       "      <td>1.0</td>\n",
       "      <td>34</td>\n",
       "      <td>F</td>\n",
       "      <td>Normal</td>\n",
       "      <td>No</td>\n",
       "      <td>No</td>\n",
       "      <td>No</td>\n",
       "      <td>Chest</td>\n",
       "      <td>15.00</td>\n",
       "      <td>V</td>\n",
       "      <td>...</td>\n",
       "      <td>III/Deep</td>\n",
       "      <td>10.0</td>\n",
       "      <td>18.0</td>\n",
       "      <td>No</td>\n",
       "      <td>No</td>\n",
       "      <td>Immuno</td>\n",
       "      <td>No</td>\n",
       "      <td>NaN</td>\n",
       "      <td>7</td>\n",
       "      <td>No</td>\n",
       "    </tr>\n",
       "    <tr>\n",
       "      <th>1</th>\n",
       "      <td>2.0</td>\n",
       "      <td>66</td>\n",
       "      <td>M</td>\n",
       "      <td>Normal</td>\n",
       "      <td>No</td>\n",
       "      <td>No</td>\n",
       "      <td>No</td>\n",
       "      <td>Unknown</td>\n",
       "      <td>NaN</td>\n",
       "      <td>NaN</td>\n",
       "      <td>...</td>\n",
       "      <td>III/Deep</td>\n",
       "      <td>55.0</td>\n",
       "      <td>39.0</td>\n",
       "      <td>Yes</td>\n",
       "      <td>No</td>\n",
       "      <td>Immuno</td>\n",
       "      <td>No</td>\n",
       "      <td>NaN</td>\n",
       "      <td>7</td>\n",
       "      <td>No</td>\n",
       "    </tr>\n",
       "    <tr>\n",
       "      <th>2</th>\n",
       "      <td>3.0</td>\n",
       "      <td>85</td>\n",
       "      <td>M</td>\n",
       "      <td>Overweight</td>\n",
       "      <td>No</td>\n",
       "      <td>No</td>\n",
       "      <td>No</td>\n",
       "      <td>Shoulder</td>\n",
       "      <td>2.00</td>\n",
       "      <td>IV</td>\n",
       "      <td>...</td>\n",
       "      <td>II/Superficial</td>\n",
       "      <td>11.0</td>\n",
       "      <td>23.0</td>\n",
       "      <td>Yes</td>\n",
       "      <td>Yes</td>\n",
       "      <td>No</td>\n",
       "      <td>No</td>\n",
       "      <td>NaN</td>\n",
       "      <td>6</td>\n",
       "      <td>No</td>\n",
       "    </tr>\n",
       "    <tr>\n",
       "      <th>3</th>\n",
       "      <td>4.0</td>\n",
       "      <td>61</td>\n",
       "      <td>F</td>\n",
       "      <td>Overweight</td>\n",
       "      <td>No</td>\n",
       "      <td>No</td>\n",
       "      <td>No</td>\n",
       "      <td>Arm</td>\n",
       "      <td>10.50</td>\n",
       "      <td>V</td>\n",
       "      <td>...</td>\n",
       "      <td>III/Deep</td>\n",
       "      <td>38.0</td>\n",
       "      <td>18.0</td>\n",
       "      <td>Yes</td>\n",
       "      <td>No</td>\n",
       "      <td>Targeted tx</td>\n",
       "      <td>No</td>\n",
       "      <td>NaN</td>\n",
       "      <td>7</td>\n",
       "      <td>No</td>\n",
       "    </tr>\n",
       "    <tr>\n",
       "      <th>4</th>\n",
       "      <td>5.0</td>\n",
       "      <td>39</td>\n",
       "      <td>F</td>\n",
       "      <td>Normal</td>\n",
       "      <td>No</td>\n",
       "      <td>No</td>\n",
       "      <td>No</td>\n",
       "      <td>Forearm</td>\n",
       "      <td>0.71</td>\n",
       "      <td>III</td>\n",
       "      <td>...</td>\n",
       "      <td>III/Deep</td>\n",
       "      <td>NaN</td>\n",
       "      <td>10.0</td>\n",
       "      <td>No</td>\n",
       "      <td>No</td>\n",
       "      <td>Targeted tx</td>\n",
       "      <td>No</td>\n",
       "      <td>NaN</td>\n",
       "      <td>7</td>\n",
       "      <td>No</td>\n",
       "    </tr>\n",
       "    <tr>\n",
       "      <th>5</th>\n",
       "      <td>6.0</td>\n",
       "      <td>72</td>\n",
       "      <td>F</td>\n",
       "      <td>Overweight</td>\n",
       "      <td>No</td>\n",
       "      <td>No</td>\n",
       "      <td>No</td>\n",
       "      <td>Neck</td>\n",
       "      <td>1.05</td>\n",
       "      <td>IV</td>\n",
       "      <td>...</td>\n",
       "      <td>II/Superficial</td>\n",
       "      <td>61.0</td>\n",
       "      <td>20.0</td>\n",
       "      <td>Yes</td>\n",
       "      <td>No</td>\n",
       "      <td>Immuno</td>\n",
       "      <td>No</td>\n",
       "      <td>NaN</td>\n",
       "      <td>11</td>\n",
       "      <td>No</td>\n",
       "    </tr>\n",
       "    <tr>\n",
       "      <th>6</th>\n",
       "      <td>7.0</td>\n",
       "      <td>56</td>\n",
       "      <td>M</td>\n",
       "      <td>Overweight</td>\n",
       "      <td>No</td>\n",
       "      <td>No</td>\n",
       "      <td>No</td>\n",
       "      <td>Scapula</td>\n",
       "      <td>NaN</td>\n",
       "      <td>NaN</td>\n",
       "      <td>...</td>\n",
       "      <td>III/Deep</td>\n",
       "      <td>55.0</td>\n",
       "      <td>37.0</td>\n",
       "      <td>NaN</td>\n",
       "      <td>No</td>\n",
       "      <td>Immuno</td>\n",
       "      <td>No</td>\n",
       "      <td>NaN</td>\n",
       "      <td>11</td>\n",
       "      <td>No</td>\n",
       "    </tr>\n",
       "    <tr>\n",
       "      <th>7</th>\n",
       "      <td>8.0</td>\n",
       "      <td>84</td>\n",
       "      <td>M</td>\n",
       "      <td>Normal</td>\n",
       "      <td>Yes</td>\n",
       "      <td>No</td>\n",
       "      <td>No</td>\n",
       "      <td>Toe</td>\n",
       "      <td>6.50</td>\n",
       "      <td>V</td>\n",
       "      <td>...</td>\n",
       "      <td>III/Deep</td>\n",
       "      <td>4.0</td>\n",
       "      <td>22.0</td>\n",
       "      <td>No</td>\n",
       "      <td>No</td>\n",
       "      <td>No</td>\n",
       "      <td>No</td>\n",
       "      <td>NaN</td>\n",
       "      <td>4</td>\n",
       "      <td>No</td>\n",
       "    </tr>\n",
       "    <tr>\n",
       "      <th>8</th>\n",
       "      <td>9.0</td>\n",
       "      <td>71</td>\n",
       "      <td>F</td>\n",
       "      <td>Overweight</td>\n",
       "      <td>No</td>\n",
       "      <td>No</td>\n",
       "      <td>No</td>\n",
       "      <td>Buttock</td>\n",
       "      <td>3.80</td>\n",
       "      <td>IV</td>\n",
       "      <td>...</td>\n",
       "      <td>III/Deep</td>\n",
       "      <td>NaN</td>\n",
       "      <td>8.0</td>\n",
       "      <td>NaN</td>\n",
       "      <td>No</td>\n",
       "      <td>Immuno</td>\n",
       "      <td>Yes</td>\n",
       "      <td>Both</td>\n",
       "      <td>14</td>\n",
       "      <td>Permanent</td>\n",
       "    </tr>\n",
       "    <tr>\n",
       "      <th>9</th>\n",
       "      <td>10.0</td>\n",
       "      <td>65</td>\n",
       "      <td>M</td>\n",
       "      <td>NaN</td>\n",
       "      <td>No</td>\n",
       "      <td>Yes</td>\n",
       "      <td>No</td>\n",
       "      <td>Toe</td>\n",
       "      <td>3.90</td>\n",
       "      <td>IV</td>\n",
       "      <td>...</td>\n",
       "      <td>III/Deep</td>\n",
       "      <td>75.0</td>\n",
       "      <td>20.0</td>\n",
       "      <td>Yes</td>\n",
       "      <td>Yes</td>\n",
       "      <td>Immuno</td>\n",
       "      <td>Yes</td>\n",
       "      <td>None</td>\n",
       "      <td>17</td>\n",
       "      <td>Transient</td>\n",
       "    </tr>\n",
       "  </tbody>\n",
       "</table>\n",
       "<p>10 rows × 21 columns</p>\n",
       "</div>"
      ],
      "text/plain": [
       "   Patient  Age at diagnosis Gender         BMI  CHF Preexisting edema  \\\n",
       "0      1.0                34      F      Normal   No                No   \n",
       "1      2.0                66      M      Normal   No                No   \n",
       "2      3.0                85      M  Overweight   No                No   \n",
       "3      4.0                61      F  Overweight   No                No   \n",
       "4      5.0                39      F      Normal   No                No   \n",
       "5      6.0                72      F  Overweight   No                No   \n",
       "6      7.0                56      M  Overweight   No                No   \n",
       "7      8.0                84      M      Normal  Yes                No   \n",
       "8      9.0                71      F  Overweight   No                No   \n",
       "9     10.0                65      M         NaN   No               Yes   \n",
       "\n",
       "  Preexisting neurologic compromise  Location  Breslow of 1ry Clark of 1ry  \\\n",
       "0                                No     Chest           15.00            V   \n",
       "1                                No   Unknown             NaN          NaN   \n",
       "2                                No  Shoulder            2.00           IV   \n",
       "3                                No       Arm           10.50            V   \n",
       "4                                No   Forearm            0.71          III   \n",
       "5                                No      Neck            1.05           IV   \n",
       "6                                No   Scapula             NaN          NaN   \n",
       "7                                No       Toe            6.50            V   \n",
       "8                                No   Buttock            3.80           IV   \n",
       "9                                No       Toe            3.90           IV   \n",
       "\n",
       "   ... Highest/deepest level of LN dissection  \\\n",
       "0  ...                               III/Deep   \n",
       "1  ...                               III/Deep   \n",
       "2  ...                         II/Superficial   \n",
       "3  ...                               III/Deep   \n",
       "4  ...                               III/Deep   \n",
       "5  ...                         II/Superficial   \n",
       "6  ...                               III/Deep   \n",
       "7  ...                               III/Deep   \n",
       "8  ...                               III/Deep   \n",
       "9  ...                               III/Deep   \n",
       "\n",
       "  Size of largest nodal tumor deposit  N number  Presence of ENE  \\\n",
       "0                                10.0      18.0               No   \n",
       "1                                55.0      39.0              Yes   \n",
       "2                                11.0      23.0              Yes   \n",
       "3                                38.0      18.0              Yes   \n",
       "4                                 NaN      10.0               No   \n",
       "5                                61.0      20.0              Yes   \n",
       "6                                55.0      37.0              NaN   \n",
       "7                                 4.0      22.0               No   \n",
       "8                                 NaN       8.0              NaN   \n",
       "9                                75.0      20.0              Yes   \n",
       "\n",
       "  Adjuvant radiation Adjuvant systemic treatment Lymphedema Supportive care  \\\n",
       "0                 No                      Immuno         No             NaN   \n",
       "1                 No                      Immuno         No             NaN   \n",
       "2                Yes                          No         No             NaN   \n",
       "3                 No                 Targeted tx         No             NaN   \n",
       "4                 No                 Targeted tx         No             NaN   \n",
       "5                 No                      Immuno         No             NaN   \n",
       "6                 No                      Immuno         No             NaN   \n",
       "7                 No                          No         No             NaN   \n",
       "8                 No                      Immuno        Yes            Both   \n",
       "9                Yes                      Immuno        Yes            None   \n",
       "\n",
       "  Length of F/U  Lymphedema_  \n",
       "0             7           No  \n",
       "1             7           No  \n",
       "2             6           No  \n",
       "3             7           No  \n",
       "4             7           No  \n",
       "5            11           No  \n",
       "6            11           No  \n",
       "7             4           No  \n",
       "8            14    Permanent  \n",
       "9            17    Transient  \n",
       "\n",
       "[10 rows x 21 columns]"
      ]
     },
     "execution_count": 9,
     "metadata": {},
     "output_type": "execute_result"
    }
   ],
   "source": [
    "df.head(10)"
   ]
  },
  {
   "cell_type": "code",
   "execution_count": 10,
   "id": "celtic-nicholas",
   "metadata": {},
   "outputs": [
    {
     "name": "stdout",
     "output_type": "stream",
     "text": [
      "<class 'pandas.core.frame.DataFrame'>\n",
      "RangeIndex: 66 entries, 0 to 65\n",
      "Data columns (total 21 columns):\n",
      " #   Column                                  Non-Null Count  Dtype  \n",
      "---  ------                                  --------------  -----  \n",
      " 0   Patient                                 66 non-null     object \n",
      " 1   Age at diagnosis                        66 non-null     int64  \n",
      " 2   Gender                                  66 non-null     object \n",
      " 3   BMI                                     65 non-null     object \n",
      " 4   CHF                                     66 non-null     object \n",
      " 5   Preexisting edema                       66 non-null     object \n",
      " 6   Preexisting neurologic compromise       66 non-null     object \n",
      " 7   Location                                66 non-null     object \n",
      " 8   Breslow of 1ry                          54 non-null     float64\n",
      " 9   Clark of 1ry                            48 non-null     object \n",
      " 10  Type of LN dissection                   66 non-null     object \n",
      " 11  Highest/deepest level of LN dissection  66 non-null     object \n",
      " 12  Size of largest nodal tumor deposit     55 non-null     float64\n",
      " 13  N number                                66 non-null     float64\n",
      " 14  Presence of ENE                         61 non-null     object \n",
      " 15  Adjuvant radiation                      65 non-null     object \n",
      " 16  Adjuvant systemic treatment             65 non-null     object \n",
      " 17  Lymphedema                              66 non-null     object \n",
      " 18  Supportive care                         18 non-null     object \n",
      " 19  Length of F/U                           66 non-null     int64  \n",
      " 20  Lymphedema_                             66 non-null     object \n",
      "dtypes: float64(3), int64(2), object(16)\n",
      "memory usage: 11.0+ KB\n"
     ]
    }
   ],
   "source": [
    "df['Patient'] = df['Patient'].astype('object')\n",
    "df.info()"
   ]
  },
  {
   "cell_type": "code",
   "execution_count": 11,
   "id": "organizational-oxford",
   "metadata": {},
   "outputs": [
    {
     "data": {
      "text/plain": [
       "(66, 21)"
      ]
     },
     "execution_count": 11,
     "metadata": {},
     "output_type": "execute_result"
    }
   ],
   "source": [
    "df.shape"
   ]
  },
  {
   "cell_type": "code",
   "execution_count": 12,
   "id": "exact-involvement",
   "metadata": {},
   "outputs": [
    {
     "data": {
      "text/plain": [
       "Index(['Patient', 'Age at diagnosis', 'Gender', 'BMI', 'CHF',\n",
       "       'Preexisting edema', 'Preexisting neurologic compromise', 'Location',\n",
       "       'Breslow of 1ry', 'Clark of 1ry', 'Type of LN dissection',\n",
       "       'Highest/deepest level of LN dissection',\n",
       "       'Size of largest nodal tumor deposit', 'N number', 'Presence of ENE',\n",
       "       'Adjuvant radiation', 'Adjuvant systemic treatment', 'Lymphedema',\n",
       "       'Supportive care', 'Length of F/U', 'Lymphedema_'],\n",
       "      dtype='object')"
      ]
     },
     "execution_count": 12,
     "metadata": {},
     "output_type": "execute_result"
    }
   ],
   "source": [
    "df.columns"
   ]
  },
  {
   "cell_type": "markdown",
   "id": "perfect-airport",
   "metadata": {},
   "source": [
    "# Missing Data\n",
    "\n",
    "##### Includes N/As"
   ]
  },
  {
   "cell_type": "code",
   "execution_count": 13,
   "id": "clinical-miami",
   "metadata": {},
   "outputs": [
    {
     "data": {
      "text/html": [
       "<div>\n",
       "<style scoped>\n",
       "    .dataframe tbody tr th:only-of-type {\n",
       "        vertical-align: middle;\n",
       "    }\n",
       "\n",
       "    .dataframe tbody tr th {\n",
       "        vertical-align: top;\n",
       "    }\n",
       "\n",
       "    .dataframe thead th {\n",
       "        text-align: right;\n",
       "    }\n",
       "</style>\n",
       "<table border=\"1\" class=\"dataframe\">\n",
       "  <thead>\n",
       "    <tr style=\"text-align: right;\">\n",
       "      <th></th>\n",
       "      <th>Column</th>\n",
       "      <th>Missing</th>\n",
       "    </tr>\n",
       "  </thead>\n",
       "  <tbody>\n",
       "    <tr>\n",
       "      <th>0</th>\n",
       "      <td>BMI</td>\n",
       "      <td>1</td>\n",
       "    </tr>\n",
       "    <tr>\n",
       "      <th>1</th>\n",
       "      <td>Breslow of 1ry</td>\n",
       "      <td>12</td>\n",
       "    </tr>\n",
       "    <tr>\n",
       "      <th>2</th>\n",
       "      <td>Clark of 1ry</td>\n",
       "      <td>18</td>\n",
       "    </tr>\n",
       "    <tr>\n",
       "      <th>3</th>\n",
       "      <td>Size of largest nodal tumor deposit</td>\n",
       "      <td>11</td>\n",
       "    </tr>\n",
       "    <tr>\n",
       "      <th>4</th>\n",
       "      <td>Presence of ENE</td>\n",
       "      <td>5</td>\n",
       "    </tr>\n",
       "    <tr>\n",
       "      <th>5</th>\n",
       "      <td>Adjuvant radiation</td>\n",
       "      <td>1</td>\n",
       "    </tr>\n",
       "    <tr>\n",
       "      <th>6</th>\n",
       "      <td>Adjuvant systemic treatment</td>\n",
       "      <td>1</td>\n",
       "    </tr>\n",
       "    <tr>\n",
       "      <th>7</th>\n",
       "      <td>Supportive care</td>\n",
       "      <td>48</td>\n",
       "    </tr>\n",
       "  </tbody>\n",
       "</table>\n",
       "</div>"
      ],
      "text/plain": [
       "                                Column  Missing\n",
       "0                                  BMI        1\n",
       "1                       Breslow of 1ry       12\n",
       "2                         Clark of 1ry       18\n",
       "3  Size of largest nodal tumor deposit       11\n",
       "4                      Presence of ENE        5\n",
       "5                   Adjuvant radiation        1\n",
       "6          Adjuvant systemic treatment        1\n",
       "7                      Supportive care       48"
      ]
     },
     "execution_count": 13,
     "metadata": {},
     "output_type": "execute_result"
    }
   ],
   "source": [
    "# Counting the number of missing values in each column\n",
    "missing_cols = df.isnull().sum()\n",
    "missing_cols = missing_cols[missing_cols > 0].index\n",
    "temp = pd.DataFrame(df[missing_cols].isnull().sum()).reset_index()\n",
    "temp.columns = [\"Column\", \"Missing\"]\n",
    "temp"
   ]
  },
  {
   "cell_type": "code",
   "execution_count": 14,
   "id": "destroyed-ethnic",
   "metadata": {},
   "outputs": [],
   "source": [
    "df_melt = pd.melt(df, id_vars=['Lymphedema'], value_vars=['Size of largest nodal tumor deposit', 'N number'])"
   ]
  },
  {
   "cell_type": "code",
   "execution_count": 16,
   "id": "interior-pride",
   "metadata": {},
   "outputs": [
    {
     "data": {
      "image/png": "[encoded data removed]",
      "text/plain": [
       "<Figure size 1152x864 with 6 Axes>"
      ]
     },
     "metadata": {},
     "output_type": "display_data"
    }
   ],
   "source": [
    "sns.set(font_scale=1.2) \n",
    "f, axes = plt.subplots(2, 3, figsize=(16, 12), sharex=False, sharey=False)\n",
    "\n",
    "sns.countplot(x=\"Lymphedema\",  data=df, ax=axes[0, 0], palette=\"colorblind\");\n",
    "\n",
    "\n",
    "df_plot.plot(kind='bar', stacked=True, width = 0.8, color=['#186C9A', '#C38C24', '#4daf4a'], ax=axes[0, 0])\n",
    "axes[0, 0].legend(title='Lymphedema')\n",
    "for label in axes[0, 0].get_xticklabels():\n",
    "    label.set_ha(\"right\")\n",
    "    label.set_rotation(0)\n",
    "\n",
    "sns.countplot(x='Lymphedema', hue='Type of LN dissection', data=df, ax=axes[0, 1], palette=\"colorblind\")\n",
    "\n",
    "\n",
    "sns.countplot(x='Lymphedema', hue='Adjuvant radiation', data=df, ax=axes[0, 2], palette=\"colorblind\")\n",
    "sns.countplot(x='Lymphedema', hue='Highest/deepest level of LN dissection', data=df, ax=axes[1, 0], palette=\"colorblind\")\n",
    "sns.countplot(x='Lymphedema', hue='Preexisting edema', data=df, ax=axes[1, 1], palette=\"colorblind\");\n",
    "sns.boxplot(x='Lymphedema', y='value', hue='variable', data=df_melt, palette='colorblind', ax=axes[1, 2])\n",
    "# Putting the legend down\n",
    "plt.legend(bbox_to_anchor=(0.9, -0.2),  borderaxespad=0, fontsize=12)\n",
    "\n",
    "# Adding vertical lines\n",
    "[axes[0,0].axvline(x, color = 'k', linestyle='--') for x in [.5]]\n",
    "[axes[0,1].axvline(x, color = 'k', linestyle='--') for x in [.5]]\n",
    "[axes[0,2].axvline(x, color = 'k', linestyle='--') for x in [.5]]\n",
    "[axes[1,0].axvline(x, color = 'k', linestyle='--') for x in [.5]]\n",
    "[axes[1,1].axvline(x, color = 'k', linestyle='--') for x in [.5]]\n",
    "[axes[1,2].axvline(x, color = 'k', linestyle='--') for x in [.5]]\n",
    "\n",
    "axes[0,0].text(0, 49,'A', fontsize=18) #add text\n",
    "axes[0,1].text(0, 32,'B', fontsize=18) #add text\n",
    "axes[0,2].text(0, 35,'C', fontsize=18) #add text\n",
    "\n",
    "axes[1,0].text(0, 37,'D', fontsize=18) #add text\n",
    "axes[1,1].text(0, 48,'E', fontsize=18) #add text\n",
    "axes[1,2].text(0, 88,'F', fontsize=18) #add text\n",
    "\n",
    "plt.savefig('Fig2-lowres.tiff', dpi=200)\n",
    "plt.tight_layout();\n"
   ]
  },
  {
   "cell_type": "markdown",
   "id": "appropriate-lithuania",
   "metadata": {},
   "source": [
    "# Machine Learning"
   ]
  },
  {
   "cell_type": "code",
   "execution_count": 17,
   "id": "canadian-decline",
   "metadata": {},
   "outputs": [],
   "source": [
    "# Feature Selection\n",
    "df_new = df[[#'N number', \n",
    "        'Size of largest nodal tumor deposit',\n",
    "        'Type of LN dissection',\n",
    "        'Adjuvant radiation', \n",
    "        'Highest/deepest level of LN dissection',\n",
    "        'Lymphedema']].dropna()\n",
    "X=df_new[[#'N number', \n",
    "        'Size of largest nodal tumor deposit',\n",
    "        'Type of LN dissection',\n",
    "        'Adjuvant radiation', \n",
    "        'Highest/deepest level of LN dissection'\n",
    "        ]].values\n",
    "\n",
    "y = df_new['Lymphedema']"
   ]
  },
  {
   "cell_type": "code",
   "execution_count": 18,
   "id": "french-norway",
   "metadata": {},
   "outputs": [
    {
     "data": {
      "text/plain": [
       "array([[10.0, 'ALND', 'No', 'III/Deep'],\n",
       "       [55.0, 'ALND', 'No', 'III/Deep'],\n",
       "       [11.0, 'ALND', 'Yes', 'II/Superficial'],\n",
       "       [38.0, 'ALND', 'No', 'III/Deep'],\n",
       "       [61.0, 'ALND', 'No', 'II/Superficial']], dtype=object)"
      ]
     },
     "execution_count": 18,
     "metadata": {},
     "output_type": "execute_result"
    }
   ],
   "source": [
    "X[0:5]"
   ]
  },
  {
   "cell_type": "code",
   "execution_count": 19,
   "id": "subjective-words",
   "metadata": {},
   "outputs": [],
   "source": [
    "# Encoding data to dummy variables\n",
    "le = preprocessing.LabelEncoder()\n",
    "X[:,1] = le.fit_transform(X[:,0].astype(str))\n",
    "X[:,2] = le.fit_transform(X[:,1].astype(str))\n",
    "X[:,3] = le.fit_transform(X[:,3].astype(str))"
   ]
  },
  {
   "cell_type": "code",
   "execution_count": 20,
   "id": "structured-quarterly",
   "metadata": {},
   "outputs": [
    {
     "data": {
      "text/plain": [
       "array([[-0.62748824, -1.09988158,  1.40912269,  0.56309251],\n",
       "       [ 1.26117877,  0.95407595,  0.37222109,  0.56309251],\n",
       "       [-0.58551786, -1.01430001,  1.48888436, -1.77590714],\n",
       "       [ 0.54768234,  0.52616813, -0.10634888,  0.56309251],\n",
       "       [ 1.51300104,  1.2964022 ,  0.69126774, -1.77590714]])"
      ]
     },
     "execution_count": 20,
     "metadata": {},
     "output_type": "execute_result"
    }
   ],
   "source": [
    "# Normalizing the data\n",
    "X = preprocessing.StandardScaler().fit(X).transform(X)\n",
    "X[0:5]"
   ]
  },
  {
   "cell_type": "code",
   "execution_count": 21,
   "id": "civil-ethiopia",
   "metadata": {},
   "outputs": [
    {
     "name": "stdout",
     "output_type": "stream",
     "text": [
      "Train set: (43, 4) (43,)\n",
      "Test set: (11, 4) (11,)\n"
     ]
    }
   ],
   "source": [
    "# Splitting data into training/test sets\n",
    "X_train, X_test, y_train, y_test = train_test_split(X, y, test_size=0.2, random_state=0)\n",
    "print ('Train set:', X_train.shape,  y_train.shape)\n",
    "print ('Test set:', X_test.shape,  y_test.shape)"
   ]
  },
  {
   "cell_type": "markdown",
   "id": "figured-principal",
   "metadata": {},
   "source": [
    "# Dealing with imbalanced dataset\n",
    "Synthetic Minority Oversampling Technique, or SMOTE."
   ]
  },
  {
   "cell_type": "code",
   "execution_count": 22,
   "id": "organized-noise",
   "metadata": {},
   "outputs": [
    {
     "name": "stdout",
     "output_type": "stream",
     "text": [
      "Original dataset shape Counter({'No': 30, 'Yes': 13})\n",
      "Resample dataset shape Counter({'Yes': 30, 'No': 30})\n"
     ]
    }
   ],
   "source": [
    "oversample = SMOTE(k_neighbors=2)\n",
    "# fit predictor and target variable\n",
    "X_ros, y_ros = oversample.fit_resample(X_train, y_train)\n",
    "print('Original dataset shape', Counter(y_train))\n",
    "print('Resample dataset shape', Counter(y_ros))\n",
    "\n",
    "# X_ros, y_ros are now used instead of X_train and y_train"
   ]
  },
  {
   "cell_type": "markdown",
   "id": "medieval-absorption",
   "metadata": {},
   "source": [
    "# Logistic Regression"
   ]
  },
  {
   "cell_type": "code",
   "execution_count": 23,
   "id": "sixth-hawaii",
   "metadata": {},
   "outputs": [
    {
     "name": "stdout",
     "output_type": "stream",
     "text": [
      "Best: 0.566667 using {'C': 0.01, 'penalty': 'l2', 'solver': 'liblinear'}\n",
      "******************************************************************************************\n",
      "Avg Accuracy: 0.500000 Std: 0.155158 with: {'C': 100, 'penalty': 'l2', 'solver': 'newton-cg'}\n",
      "Avg Accuracy: 0.500000 Std: 0.155158 with: {'C': 100, 'penalty': 'l2', 'solver': 'lbfgs'}\n",
      "Avg Accuracy: 0.500000 Std: 0.155158 with: {'C': 100, 'penalty': 'l2', 'solver': 'liblinear'}\n",
      "Avg Accuracy: 0.500000 Std: 0.155158 with: {'C': 10, 'penalty': 'l2', 'solver': 'newton-cg'}\n",
      "Avg Accuracy: 0.500000 Std: 0.155158 with: {'C': 10, 'penalty': 'l2', 'solver': 'lbfgs'}\n",
      "Avg Accuracy: 0.500000 Std: 0.155158 with: {'C': 10, 'penalty': 'l2', 'solver': 'liblinear'}\n",
      "Avg Accuracy: 0.505556 Std: 0.145827 with: {'C': 1.0, 'penalty': 'l2', 'solver': 'newton-cg'}\n",
      "Avg Accuracy: 0.505556 Std: 0.145827 with: {'C': 1.0, 'penalty': 'l2', 'solver': 'lbfgs'}\n",
      "Avg Accuracy: 0.505556 Std: 0.145827 with: {'C': 1.0, 'penalty': 'l2', 'solver': 'liblinear'}\n",
      "Avg Accuracy: 0.505556 Std: 0.139333 with: {'C': 0.1, 'penalty': 'l2', 'solver': 'newton-cg'}\n",
      "Avg Accuracy: 0.505556 Std: 0.139333 with: {'C': 0.1, 'penalty': 'l2', 'solver': 'lbfgs'}\n",
      "Avg Accuracy: 0.555556 Std: 0.144871 with: {'C': 0.1, 'penalty': 'l2', 'solver': 'liblinear'}\n",
      "Avg Accuracy: 0.483333 Std: 0.131586 with: {'C': 0.01, 'penalty': 'l2', 'solver': 'newton-cg'}\n",
      "Avg Accuracy: 0.483333 Std: 0.131586 with: {'C': 0.01, 'penalty': 'l2', 'solver': 'lbfgs'}\n",
      "Avg Accuracy: 0.566667 Std: 0.146566 with: {'C': 0.01, 'penalty': 'l2', 'solver': 'liblinear'}\n"
     ]
    }
   ],
   "source": [
    "# define models and parameters\n",
    "model = LogisticRegression()\n",
    "solvers = ['newton-cg', 'lbfgs', 'liblinear']\n",
    "penalty = ['l2']  #Also tested for 'l1','elasticnet','none' --Results were the same\n",
    "c_values = [100, 10, 1.0, 0.1, 0.01]\n",
    "# define grid search\n",
    "grid = dict(solver=solvers,penalty=penalty,C=c_values)\n",
    "cv = RepeatedStratifiedKFold(n_splits=10, n_repeats=3, random_state=42)\n",
    "grid_search = GridSearchCV(estimator=model, param_grid=grid, n_jobs=-1, cv=cv, scoring='accuracy',error_score=0)\n",
    "grid_result = grid_search.fit(X_ros, y_ros)\n",
    "\n",
    "# summarize results\n",
    "print(\"Best: %f using %s\" % (grid_result.best_score_, grid_result.best_params_))\n",
    "print('******************************************************************************************')\n",
    "means = grid_result.cv_results_['mean_test_score']\n",
    "stds = grid_result.cv_results_['std_test_score']\n",
    "params = grid_result.cv_results_['params']\n",
    "for mean, stdev, param in zip(means, stds, params):\n",
    "    print(\"Avg Accuracy: %f Std: %f with: %r\" % (mean, stdev, param))"
   ]
  },
  {
   "cell_type": "code",
   "execution_count": 24,
   "id": "representative-charge",
   "metadata": {
    "scrolled": false
   },
   "outputs": [
    {
     "name": "stdout",
     "output_type": "stream",
     "text": [
      "True lables:      ['Yes', 'No', 'No', 'Yes', 'No', 'No', 'No', 'No', 'Yes', 'No', 'No']\n",
      "Predicted labels: ['Yes', 'Yes', 'Yes', 'No', 'No', 'No', 'Yes', 'No', 'Yes', 'Yes', 'No']\n",
      "**********************************************************\n",
      "Model Performance LogisticRegression(C=0.01, solver='liblinear')\n",
      "Accuracy on train_set 0.62\n",
      "Accuracy on test_set 0.55\n",
      "**********************************************************\n",
      "              precision    recall  f1-score   support\n",
      "\n",
      "          No       0.77      0.33      0.47        30\n",
      "         Yes       0.57      0.90      0.70        30\n",
      "\n",
      "    accuracy                           0.62        60\n",
      "   macro avg       0.67      0.62      0.58        60\n",
      "weighted avg       0.67      0.62      0.58        60\n",
      "\n"
     ]
    }
   ],
   "source": [
    "LR_clf = LogisticRegression(solver='liblinear', penalty='l2', C=0.01)\n",
    "LR_clf.fit(X_ros, y_ros)\n",
    "evaluate (LR_clf, X_ros, y_ros, X_test, y_test)"
   ]
  },
  {
   "cell_type": "markdown",
   "id": "impressive-audio",
   "metadata": {},
   "source": [
    "# Random Forest"
   ]
  },
  {
   "cell_type": "code",
   "execution_count": 25,
   "id": "proud-bracket",
   "metadata": {},
   "outputs": [
    {
     "data": {
      "image/png": "[encoded data removed]",
      "text/plain": [
       "<Figure size 432x288 with 1 Axes>"
      ]
     },
     "metadata": {},
     "output_type": "display_data"
    }
   ],
   "source": [
    "#Tuning the number of trees\n",
    "n=100\n",
    "n_Trees, acc, std = [],[],[]\n",
    "for n in range(10,n,1):\n",
    "    \n",
    "    #Train Model and Predict  \n",
    "    rf_clf = RandomForestClassifier(n_estimators = n, random_state=30).fit(X_ros,y_ros)\n",
    "    PredRandomForest_training=rf_clf.predict(X_ros)\n",
    "    accuracy = accuracy_score(y_ros, PredRandomForest_training) \n",
    "    standard_deviation=np.std(PredRandomForest_training==y_ros)/np.sqrt(PredRandomForest_training.shape[0])\n",
    "    acc.append(accuracy)\n",
    "    n_Trees.append(n)\n",
    "    std.append(standard_deviation)\n",
    "\n",
    "#Plotting the overall accuracy versus number of trees. \n",
    "plt.plot(n_Trees,acc,'g')\n",
    "plt.fill_between(n_Trees,accuracy - 1 * standard_deviation, accuracy + 1 * standard_deviation, alpha=0.05)\n",
    "plt.legend(('Accuracy ', '+/- xstd'))\n",
    "plt.ylabel('Accuracy ')\n",
    "plt.xlabel('Number of Trees')\n",
    "plt.tight_layout()\n",
    "plt.show()"
   ]
  },
  {
   "cell_type": "code",
   "execution_count": 26,
   "id": "short-encyclopedia",
   "metadata": {},
   "outputs": [
    {
     "name": "stdout",
     "output_type": "stream",
     "text": [
      "{'bootstrap': [True, False],\n",
      " 'max_depth': [10, 20, 30, 40, 50, 60, 70, 80, 90, 100, 110, None],\n",
      " 'max_features': ['auto', 'sqrt'],\n",
      " 'min_samples_leaf': [1, 2, 4],\n",
      " 'min_samples_split': [2, 5, 10],\n",
      " 'n_estimators': [50]}\n"
     ]
    }
   ],
   "source": [
    "##Tuning other parameters\n",
    "\n",
    "# RANDOM SEARCH\n",
    "from sklearn.model_selection import RandomizedSearchCV\n",
    "# Number of trees in random forest\n",
    "n_estimators = [50] # Found above\n",
    "# Number of features to consider at every split\n",
    "max_features = ['auto', 'sqrt']\n",
    "# Maximum number of levels in tree\n",
    "max_depth = [int(x) for x in np.linspace(10, 110, num = 11)]\n",
    "max_depth.append(None)\n",
    "# Minimum number of samples required to split a node\n",
    "min_samples_split = [2, 5, 10]\n",
    "# Minimum number of samples required at each leaf node\n",
    "min_samples_leaf = [1, 2, 4]\n",
    "# Method of selecting samples for training each tree\n",
    "bootstrap = [True, False]\n",
    "# Create the random grid\n",
    "random_grid = {'n_estimators': n_estimators,\n",
    "               'max_features': max_features,\n",
    "               'max_depth': max_depth,\n",
    "               'min_samples_split': min_samples_split,\n",
    "               'min_samples_leaf': min_samples_leaf,\n",
    "               'bootstrap': bootstrap}\n",
    "pprint(random_grid)"
   ]
  },
  {
   "cell_type": "code",
   "execution_count": 27,
   "id": "approximate-equivalent",
   "metadata": {},
   "outputs": [
    {
     "name": "stdout",
     "output_type": "stream",
     "text": [
      "Fitting 3 folds for each of 100 candidates, totalling 300 fits\n"
     ]
    },
    {
     "data": {
      "text/plain": [
       "RandomizedSearchCV(cv=3, estimator=RandomForestClassifier(), n_iter=100,\n",
       "                   n_jobs=-1,\n",
       "                   param_distributions={'bootstrap': [True, False],\n",
       "                                        'max_depth': [10, 20, 30, 40, 50, 60,\n",
       "                                                      70, 80, 90, 100, 110,\n",
       "                                                      None],\n",
       "                                        'max_features': ['auto', 'sqrt'],\n",
       "                                        'min_samples_leaf': [1, 2, 4],\n",
       "                                        'min_samples_split': [2, 5, 10],\n",
       "                                        'n_estimators': [50]},\n",
       "                   random_state=30, verbose=2)"
      ]
     },
     "execution_count": 27,
     "metadata": {},
     "output_type": "execute_result"
    }
   ],
   "source": [
    "# Use the random grid to search for best hyperparameters\n",
    "# First create the base model to tune\n",
    "rf = RandomForestClassifier()\n",
    "# Random search of parameters, using 3 fold cross validation, \n",
    "# search across 100 different combinations, and use all available cores\n",
    "rf_random = RandomizedSearchCV(estimator = rf, param_distributions = random_grid, n_iter = 100, cv = 3, verbose=2, random_state=30, n_jobs = -1)\n",
    "# Fit the random search model\n",
    "rf_random.fit(X_ros, y_ros)"
   ]
  },
  {
   "cell_type": "code",
   "execution_count": 28,
   "id": "acceptable-twins",
   "metadata": {},
   "outputs": [
    {
     "data": {
      "text/plain": [
       "{'n_estimators': 50,\n",
       " 'min_samples_split': 10,\n",
       " 'min_samples_leaf': 2,\n",
       " 'max_features': 'auto',\n",
       " 'max_depth': 10,\n",
       " 'bootstrap': False}"
      ]
     },
     "execution_count": 28,
     "metadata": {},
     "output_type": "execute_result"
    }
   ],
   "source": [
    "rf_random.best_params_"
   ]
  },
  {
   "cell_type": "code",
   "execution_count": 29,
   "id": "polish-static",
   "metadata": {},
   "outputs": [
    {
     "name": "stdout",
     "output_type": "stream",
     "text": [
      "True lables:      ['Yes', 'No', 'No', 'Yes', 'No', 'No', 'No', 'No', 'Yes', 'No', 'No']\n",
      "Predicted labels: ['No', 'No', 'No', 'No', 'No', 'No', 'No', 'Yes', 'Yes', 'Yes', 'No']\n",
      "**********************************************************\n",
      "Model Performance RandomForestClassifier(max_depth=70, max_features='sqrt', n_estimators=50,\n",
      "                       random_state=30)\n",
      "Accuracy on train_set 0.95\n",
      "Accuracy on test_set 0.64\n",
      "**********************************************************\n",
      "              precision    recall  f1-score   support\n",
      "\n",
      "          No       0.94      0.97      0.95        30\n",
      "         Yes       0.97      0.93      0.95        30\n",
      "\n",
      "    accuracy                           0.95        60\n",
      "   macro avg       0.95      0.95      0.95        60\n",
      "weighted avg       0.95      0.95      0.95        60\n",
      "\n"
     ]
    }
   ],
   "source": [
    "rf_clf=RandomForestClassifier(n_estimators= 50, \n",
    "                              min_samples_split= 2, \n",
    "                              min_samples_leaf= 1, \n",
    "                              max_features= 'sqrt', \n",
    "                              max_depth= 70, \n",
    "                              bootstrap= True, \n",
    "                              random_state=30)\n",
    "\n",
    "rf_clf.fit(X_ros,y_ros)\n",
    "evaluate (rf_clf, X_ros, y_ros, X_test, y_test)"
   ]
  },
  {
   "cell_type": "markdown",
   "id": "competitive-drunk",
   "metadata": {},
   "source": [
    "# K-Nearest Neighbors"
   ]
  },
  {
   "cell_type": "code",
   "execution_count": 30,
   "id": "linear-florence",
   "metadata": {},
   "outputs": [
    {
     "name": "stdout",
     "output_type": "stream",
     "text": [
      "Ks: 2 --> mean_accuracy: 0.5999999999999999\n",
      "Ks: 3 --> mean_accuracy: 0.6\n",
      "Ks: 4 --> mean_accuracy: 0.5833333333333334\n",
      "Ks: 5 --> mean_accuracy: 0.6666666666666666\n",
      "Ks: 6 --> mean_accuracy: 0.5999999999999999\n",
      "Ks: 7 --> mean_accuracy: 0.5666666666666667\n",
      "Ks: 8 --> mean_accuracy: 0.6166666666666666\n",
      "Ks: 9 --> mean_accuracy: 0.6333333333333334\n"
     ]
    },
    {
     "data": {
      "image/png": "[encoded data removed]",
      "text/plain": [
       "<Figure size 432x288 with 1 Axes>"
      ]
     },
     "metadata": {},
     "output_type": "display_data"
    }
   ],
   "source": [
    "Ks = 10\n",
    "mean_acc = np.zeros((Ks-1))\n",
    "std_acc = np.zeros((Ks-1))\n",
    "for n in range(2,Ks):\n",
    "    \n",
    "    #Train Model and Predict  \n",
    "    neigh = KNeighborsClassifier(n_neighbors = n).fit(X_ros,y_ros)\n",
    "    \n",
    "    # 10-fold Cross Validation\n",
    "    scores = cross_val_score(neigh, X_ros,y_ros, cv=10, scoring='accuracy')\n",
    "    print('Ks:' ,n, '--> mean_accuracy:', scores.mean())\n",
    "    Predneigh=neigh.predict(X_ros)\n",
    "    mean_acc[n-1] = accuracy_score(y_ros, Predneigh)\n",
    "\n",
    "    \n",
    "    std_acc[n-1]=np.std(Predneigh==y_ros)/np.sqrt(Predneigh.shape[0])\n",
    "\n",
    "# Plotting the overall accuracy versus number of neighbors. \n",
    "plt.plot(range(1,Ks),mean_acc,'g')\n",
    "plt.fill_between(range(1,Ks), mean_acc - 1 * std_acc, mean_acc + 1 * std_acc, alpha=0.05)\n",
    "plt.legend(('Accuracy ', '+/- xstd'))\n",
    "plt.ylabel('Accuracy ')\n",
    "plt.xlabel('Number of Neighbors (K)')\n",
    "plt.tight_layout()\n",
    "plt.show()"
   ]
  },
  {
   "cell_type": "code",
   "execution_count": 31,
   "id": "after-mistress",
   "metadata": {},
   "outputs": [],
   "source": [
    "# The highest accuracy is achieved at k=20.\n",
    "ks = 2\n",
    "#Train Model and Predict  \n",
    "neigh_clf = KNeighborsClassifier(n_neighbors = ks).fit(X_ros,y_ros) #X_train,y_train\n",
    "\n",
    "Predneigh = neigh_clf.predict(X_test)"
   ]
  },
  {
   "cell_type": "code",
   "execution_count": 32,
   "id": "contained-andorra",
   "metadata": {
    "scrolled": true
   },
   "outputs": [
    {
     "name": "stdout",
     "output_type": "stream",
     "text": [
      "True lables:      ['Yes', 'No', 'No', 'Yes', 'No', 'No', 'No', 'No', 'Yes', 'No', 'No']\n",
      "Predicted labels: ['No', 'No', 'No', 'No', 'No', 'No', 'No', 'No', 'Yes', 'Yes', 'No']\n",
      "**********************************************************\n",
      "Model Performance KNeighborsClassifier(n_neighbors=2)\n",
      "Accuracy on train_set 0.83\n",
      "Accuracy on test_set 0.73\n",
      "**********************************************************\n",
      "              precision    recall  f1-score   support\n",
      "\n",
      "          No       0.75      1.00      0.86        30\n",
      "         Yes       1.00      0.67      0.80        30\n",
      "\n",
      "    accuracy                           0.83        60\n",
      "   macro avg       0.88      0.83      0.83        60\n",
      "weighted avg       0.88      0.83      0.83        60\n",
      "\n"
     ]
    }
   ],
   "source": [
    "evaluate (neigh_clf, X_ros, y_ros, X_test, y_test)"
   ]
  },
  {
   "cell_type": "code",
   "execution_count": 33,
   "id": "needed-vinyl",
   "metadata": {},
   "outputs": [
    {
     "name": "stdout",
     "output_type": "stream",
     "text": [
      "Confusion matrix, without normalization\n",
      "[[4 4]\n",
      " [1 2]]\n"
     ]
    },
    {
     "data": {
      "image/png": "[encoded data removed]",
      "text/plain": [
       "<Figure size 360x360 with 2 Axes>"
      ]
     },
     "metadata": {},
     "output_type": "display_data"
    }
   ],
   "source": [
    "# Compute confusion matrix\n",
    "cnf_matrix = confusion_matrix(y_test, LR_clf.predict(X_test))\n",
    "np.set_printoptions(precision=2)\n",
    "\n",
    "# Plot non-normalized confusion matrix\n",
    "plt.figure(figsize=(5,5))\n",
    "plot_confusion_matrix(cnf_matrix, classes=['No','Yes'],normalize=False)"
   ]
  },
  {
   "cell_type": "code",
   "execution_count": 34,
   "id": "empty-harris",
   "metadata": {},
   "outputs": [
    {
     "name": "stdout",
     "output_type": "stream",
     "text": [
      "Confusion matrix, without normalization\n",
      "[[6 2]\n",
      " [2 1]]\n"
     ]
    },
    {
     "data": {
      "image/png": "[encoded data removed]",
      "text/plain": [
       "<Figure size 360x360 with 2 Axes>"
      ]
     },
     "metadata": {},
     "output_type": "display_data"
    }
   ],
   "source": [
    "# Compute confusion matrix\n",
    "cnf_matrix = confusion_matrix(y_test, rf_clf.predict(X_test))\n",
    "np.set_printoptions(precision=2)\n",
    "\n",
    "# Plot non-normalized confusion matrix\n",
    "plt.figure(figsize=(5,5))\n",
    "plot_confusion_matrix(cnf_matrix, classes=['No','Yes'],normalize=False)"
   ]
  },
  {
   "cell_type": "code",
   "execution_count": 35,
   "id": "given-measure",
   "metadata": {},
   "outputs": [
    {
     "name": "stdout",
     "output_type": "stream",
     "text": [
      "Confusion matrix, without normalization\n",
      "[[7 1]\n",
      " [2 1]]\n"
     ]
    },
    {
     "data": {
      "image/png": "[encoded data removed]",
      "text/plain": [
       "<Figure size 360x360 with 2 Axes>"
      ]
     },
     "metadata": {},
     "output_type": "display_data"
    }
   ],
   "source": [
    "# Compute confusion matrix\n",
    "cnf_matrix = confusion_matrix(y_test, neigh_clf.predict(X_test))\n",
    "np.set_printoptions(precision=2)\n",
    "\n",
    "# Plot non-normalized confusion matrix\n",
    "plt.figure(figsize=(5,5))\n",
    "plot_confusion_matrix(cnf_matrix, classes=['No','Yes'],normalize=False)"
   ]
  },
  {
   "cell_type": "code",
   "execution_count": null,
   "id": "unlikely-shape",
   "metadata": {},
   "outputs": [],
   "source": []
  }
 ],
 "metadata": {
  "kernelspec": {
   "display_name": "Python 3",
   "language": "python",
   "name": "python3"
  },
  "language_info": {
   "codemirror_mode": {
    "name": "ipython",
    "version": 3
   },
   "file_extension": ".py",
   "mimetype": "text/x-python",
   "name": "python",
   "nbconvert_exporter": "python",
   "pygments_lexer": "ipython3",
   "version": "3.6.8"
  }
 },
 "nbformat": 4,
 "nbformat_minor": 5
}
